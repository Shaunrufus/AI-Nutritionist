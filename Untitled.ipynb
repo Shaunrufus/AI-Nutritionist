{
 "cells": [
  {
   "cell_type": "code",
   "execution_count": 8,
   "id": "5dcdbf3d",
   "metadata": {},
   "outputs": [
    {
     "name": "stdout",
     "output_type": "stream",
     "text": [
      "✅ Dataset loaded: (5000, 29)\n",
      "✅ XGBRegressor trained.\n"
     ]
    },
    {
     "name": "stderr",
     "output_type": "stream",
     "text": [
      "c:\\Users\\shaun\\AppData\\Local\\Programs\\Python\\Python313\\Lib\\site-packages\\xgboost\\training.py:183: UserWarning: [19:31:50] WARNING: C:\\actions-runner\\_work\\xgboost\\xgboost\\src\\learner.cc:738: \n",
      "Parameters: { \"use_label_encoder\" } are not used.\n",
      "\n",
      "  bst.update(dtrain, iteration=i, fobj=obj)\n"
     ]
    },
    {
     "name": "stdout",
     "output_type": "stream",
     "text": [
      "✅ XGBClassifier trained.\n",
      "✅ All models and encoders saved to 'models/' folder.\n"
     ]
    }
   ],
   "source": [
    "# Step 1: Imports\n",
    "import pandas as pd\n",
    "import os\n",
    "from sklearn.model_selection import train_test_split\n",
    "from sklearn.preprocessing import LabelEncoder\n",
    "from xgboost import XGBRegressor, XGBClassifier\n",
    "import joblib\n",
    "\n",
    "# Step 2: Load the cleaned dataset\n",
    "df = pd.read_csv(\"data/nutrition_dataset.csv\")\n",
    "print(\"✅ Dataset loaded:\", df.shape)\n",
    "\n",
    "# Step 3: Drop rows with missing targets\n",
    "df = df.dropna(subset=[\n",
    "    'Recommended_Calories', 'Recommended_Protein', \n",
    "    'Recommended_Carbs', 'Recommended_Fats', 'Recommended_Meal_Plan'\n",
    "])\n",
    "\n",
    "# Step 4: Define Features and Targets\n",
    "X = df.drop(columns=[\n",
    "    'Recommended_Calories', 'Recommended_Protein', \n",
    "    'Recommended_Carbs', 'Recommended_Fats', 'Recommended_Meal_Plan'\n",
    "])\n",
    "\n",
    "# One-hot encode if any categorical features exist\n",
    "X = pd.get_dummies(X)\n",
    "\n",
    "# Regression targets\n",
    "y_reg = df[['Recommended_Calories', 'Recommended_Protein', 'Recommended_Carbs', 'Recommended_Fats']]\n",
    "\n",
    "# Classification target (label encoding)\n",
    "le = LabelEncoder()\n",
    "y_clf = le.fit_transform(df['Recommended_Meal_Plan'])\n",
    "\n",
    "# Step 5: Split Data\n",
    "# Ensure same X used, split once and reuse\n",
    "X_train, X_test, y_reg_train, y_reg_test, y_clf_train, y_clf_test = train_test_split(\n",
    "    X, y_reg, y_clf, test_size=0.2, random_state=42\n",
    ")\n",
    "\n",
    "# Step 6: Train Regressor\n",
    "reg_model = XGBRegressor(objective='reg:squarederror', random_state=42)\n",
    "reg_model.fit(X_train, y_reg_train)\n",
    "print(\"✅ XGBRegressor trained.\")\n",
    "\n",
    "# Step 7: Train Classifier\n",
    "clf_model = XGBClassifier(use_label_encoder=False, eval_metric='mlogloss', random_state=42)\n",
    "clf_model.fit(X_train, y_clf_train)\n",
    "print(\"✅ XGBClassifier trained.\")\n",
    "\n",
    "# Step 8: Save Encoders & Models\n",
    "os.makedirs(\"models\", exist_ok=True)\n",
    "joblib.dump(reg_model, \"models/nutrition_regressor.pkl\")\n",
    "joblib.dump(clf_model, \"models/nutrition_classifier.pkl\")\n",
    "joblib.dump(le, \"models/label_encoder.pkl\")  # Save the label encoder for inference\n",
    "\n",
    "print(\"✅ All models and encoders saved to 'models/' folder.\")\n"
   ]
  }
 ],
 "metadata": {
  "kernelspec": {
   "display_name": "Python 3",
   "language": "python",
   "name": "python3"
  },
  "language_info": {
   "codemirror_mode": {
    "name": "ipython",
    "version": 3
   },
   "file_extension": ".py",
   "mimetype": "text/x-python",
   "name": "python",
   "nbconvert_exporter": "python",
   "pygments_lexer": "ipython3",
   "version": "3.13.2"
  }
 },
 "nbformat": 4,
 "nbformat_minor": 5
}
